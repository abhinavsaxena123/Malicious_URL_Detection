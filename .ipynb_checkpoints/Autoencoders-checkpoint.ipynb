{
 "cells": [
  {
   "cell_type": "code",
   "execution_count": 78,
   "id": "43bb8791-20b0-40ae-8c8a-71cc5fd0b1dc",
   "metadata": {},
   "outputs": [],
   "source": [
    "import pandas as pd\n",
    "import numpy as np\n",
    "import matplotlib.pyplot as plt\n",
    "import seaborn as sns\n",
    "import plotly.express as px\n",
    "\n",
    "import tensorflow as tf\n",
    "from tensorflow.keras import Model, Sequential\n",
    "from tensorflow.keras.layers import Dense, Input\n",
    "from tensorflow.keras.optimizers import Adam\n",
    "from tensorflow.keras.losses import mae\n",
    "from tensorflow.keras.metrics import Mean\n",
    "from tensorflow.keras.callbacks import ModelCheckpoint, EarlyStopping\n",
    "from keras import regularizers\n",
    "from keras.layers import Dropout\n",
    "from keras.layers import BatchNormalization"
   ]
  },
  {
   "cell_type": "code",
   "execution_count": 79,
   "id": "e2c3a7ee-abef-41a5-bdf5-eaa117eab215",
   "metadata": {},
   "outputs": [
    {
     "data": {
      "text/html": [
       "<div>\n",
       "<style scoped>\n",
       "    .dataframe tbody tr th:only-of-type {\n",
       "        vertical-align: middle;\n",
       "    }\n",
       "\n",
       "    .dataframe tbody tr th {\n",
       "        vertical-align: top;\n",
       "    }\n",
       "\n",
       "    .dataframe thead th {\n",
       "        text-align: right;\n",
       "    }\n",
       "</style>\n",
       "<table border=\"1\" class=\"dataframe\">\n",
       "  <thead>\n",
       "    <tr style=\"text-align: right;\">\n",
       "      <th></th>\n",
       "      <th>Unnamed: 0</th>\n",
       "      <th>url</th>\n",
       "      <th>type</th>\n",
       "      <th>url_len</th>\n",
       "      <th>use_of_ip</th>\n",
       "      <th>domain</th>\n",
       "      <th>count_https</th>\n",
       "      <th>count_http</th>\n",
       "      <th>abnormal_url</th>\n",
       "      <th>@</th>\n",
       "      <th>...</th>\n",
       "      <th>sum_count_special_chars</th>\n",
       "      <th>pri_domain</th>\n",
       "      <th>redirection</th>\n",
       "      <th>hostname_length</th>\n",
       "      <th>tld</th>\n",
       "      <th>tld_length</th>\n",
       "      <th>short_url</th>\n",
       "      <th>count_digits</th>\n",
       "      <th>fd_len</th>\n",
       "      <th>is_sus_words</th>\n",
       "    </tr>\n",
       "  </thead>\n",
       "  <tbody>\n",
       "    <tr>\n",
       "      <th>0</th>\n",
       "      <td>0</td>\n",
       "      <td>br-icloud.com.br</td>\n",
       "      <td>phishing</td>\n",
       "      <td>16</td>\n",
       "      <td>0</td>\n",
       "      <td>com.br</td>\n",
       "      <td>0</td>\n",
       "      <td>0</td>\n",
       "      <td>0</td>\n",
       "      <td>0</td>\n",
       "      <td>...</td>\n",
       "      <td>3</td>\n",
       "      <td>br-icloud.com.br</td>\n",
       "      <td>0</td>\n",
       "      <td>0</td>\n",
       "      <td>NaN</td>\n",
       "      <td>-1</td>\n",
       "      <td>0</td>\n",
       "      <td>0</td>\n",
       "      <td>0</td>\n",
       "      <td>0</td>\n",
       "    </tr>\n",
       "    <tr>\n",
       "      <th>1</th>\n",
       "      <td>1</td>\n",
       "      <td>mp3raid.com/music/krizz_kaliko.html</td>\n",
       "      <td>benign</td>\n",
       "      <td>35</td>\n",
       "      <td>0</td>\n",
       "      <td>com</td>\n",
       "      <td>0</td>\n",
       "      <td>0</td>\n",
       "      <td>0</td>\n",
       "      <td>0</td>\n",
       "      <td>...</td>\n",
       "      <td>2</td>\n",
       "      <td>mp3raid.com</td>\n",
       "      <td>0</td>\n",
       "      <td>0</td>\n",
       "      <td>NaN</td>\n",
       "      <td>-1</td>\n",
       "      <td>0</td>\n",
       "      <td>1</td>\n",
       "      <td>5</td>\n",
       "      <td>0</td>\n",
       "    </tr>\n",
       "    <tr>\n",
       "      <th>2</th>\n",
       "      <td>2</td>\n",
       "      <td>bopsecrets.org/rexroth/cr/1.htm</td>\n",
       "      <td>benign</td>\n",
       "      <td>31</td>\n",
       "      <td>0</td>\n",
       "      <td>org</td>\n",
       "      <td>0</td>\n",
       "      <td>0</td>\n",
       "      <td>0</td>\n",
       "      <td>0</td>\n",
       "      <td>...</td>\n",
       "      <td>2</td>\n",
       "      <td>bopsecrets.org</td>\n",
       "      <td>0</td>\n",
       "      <td>0</td>\n",
       "      <td>NaN</td>\n",
       "      <td>-1</td>\n",
       "      <td>0</td>\n",
       "      <td>1</td>\n",
       "      <td>7</td>\n",
       "      <td>0</td>\n",
       "    </tr>\n",
       "    <tr>\n",
       "      <th>3</th>\n",
       "      <td>3</td>\n",
       "      <td>http://www.garage-pirenne.be/index.php?option=...</td>\n",
       "      <td>defacement</td>\n",
       "      <td>88</td>\n",
       "      <td>0</td>\n",
       "      <td>be</td>\n",
       "      <td>0</td>\n",
       "      <td>1</td>\n",
       "      <td>1</td>\n",
       "      <td>0</td>\n",
       "      <td>...</td>\n",
       "      <td>9</td>\n",
       "      <td>www.garage-pirenne.be</td>\n",
       "      <td>0</td>\n",
       "      <td>21</td>\n",
       "      <td>be</td>\n",
       "      <td>2</td>\n",
       "      <td>0</td>\n",
       "      <td>7</td>\n",
       "      <td>9</td>\n",
       "      <td>0</td>\n",
       "    </tr>\n",
       "    <tr>\n",
       "      <th>4</th>\n",
       "      <td>4</td>\n",
       "      <td>http://adventure-nicaragua.net/index.php?optio...</td>\n",
       "      <td>defacement</td>\n",
       "      <td>235</td>\n",
       "      <td>0</td>\n",
       "      <td>net</td>\n",
       "      <td>0</td>\n",
       "      <td>1</td>\n",
       "      <td>1</td>\n",
       "      <td>0</td>\n",
       "      <td>...</td>\n",
       "      <td>7</td>\n",
       "      <td>adventure-nicaragua.net</td>\n",
       "      <td>0</td>\n",
       "      <td>23</td>\n",
       "      <td>net</td>\n",
       "      <td>3</td>\n",
       "      <td>0</td>\n",
       "      <td>22</td>\n",
       "      <td>9</td>\n",
       "      <td>0</td>\n",
       "    </tr>\n",
       "  </tbody>\n",
       "</table>\n",
       "<p>5 rows × 32 columns</p>\n",
       "</div>"
      ],
      "text/plain": [
       "   Unnamed: 0                                                url        type  \\\n",
       "0           0                                   br-icloud.com.br    phishing   \n",
       "1           1                mp3raid.com/music/krizz_kaliko.html      benign   \n",
       "2           2                    bopsecrets.org/rexroth/cr/1.htm      benign   \n",
       "3           3  http://www.garage-pirenne.be/index.php?option=...  defacement   \n",
       "4           4  http://adventure-nicaragua.net/index.php?optio...  defacement   \n",
       "\n",
       "   url_len  use_of_ip  domain  count_https  count_http  abnormal_url  @  ...  \\\n",
       "0       16          0  com.br            0           0             0  0  ...   \n",
       "1       35          0     com            0           0             0  0  ...   \n",
       "2       31          0     org            0           0             0  0  ...   \n",
       "3       88          0      be            0           1             1  0  ...   \n",
       "4      235          0     net            0           1             1  0  ...   \n",
       "\n",
       "   sum_count_special_chars               pri_domain  redirection  \\\n",
       "0                        3         br-icloud.com.br            0   \n",
       "1                        2              mp3raid.com            0   \n",
       "2                        2           bopsecrets.org            0   \n",
       "3                        9    www.garage-pirenne.be            0   \n",
       "4                        7  adventure-nicaragua.net            0   \n",
       "\n",
       "   hostname_length  tld  tld_length  short_url  count_digits  fd_len  \\\n",
       "0                0  NaN          -1          0             0       0   \n",
       "1                0  NaN          -1          0             1       5   \n",
       "2                0  NaN          -1          0             1       7   \n",
       "3               21   be           2          0             7       9   \n",
       "4               23  net           3          0            22       9   \n",
       "\n",
       "   is_sus_words  \n",
       "0             0  \n",
       "1             0  \n",
       "2             0  \n",
       "3             0  \n",
       "4             0  \n",
       "\n",
       "[5 rows x 32 columns]"
      ]
     },
     "execution_count": 79,
     "metadata": {},
     "output_type": "execute_result"
    }
   ],
   "source": [
    "df = pd.read_csv('preprocessed_data.csv', low_memory=False)\n",
    "df.head()"
   ]
  },
  {
   "cell_type": "code",
   "execution_count": 80,
   "id": "6fbdf36c-19c2-4738-87b9-6301f9fb03d9",
   "metadata": {},
   "outputs": [
    {
     "data": {
      "text/plain": [
       "type\n",
       "benign        428103\n",
       "defacement     96457\n",
       "phishing       94111\n",
       "malware        32520\n",
       "Name: count, dtype: int64"
      ]
     },
     "execution_count": 80,
     "metadata": {},
     "output_type": "execute_result"
    }
   ],
   "source": [
    "df['type'].value_counts()"
   ]
  },
  {
   "cell_type": "markdown",
   "id": "96e4cd53-18a5-4d2a-b346-9a56ccec903d",
   "metadata": {},
   "source": [
    "### Splitting the data into benign and malicious"
   ]
  },
  {
   "cell_type": "code",
   "execution_count": 81,
   "id": "88702779-7c26-4239-bdef-2f03952ef917",
   "metadata": {},
   "outputs": [],
   "source": [
    "benign_data = df[df['type'] == 'benign']\n",
    "malicious_data = df[df['type'] != 'benign']"
   ]
  },
  {
   "cell_type": "code",
   "execution_count": 82,
   "id": "035eaf6d-1a44-473b-8ad3-1629e159b76b",
   "metadata": {},
   "outputs": [
    {
     "data": {
      "text/plain": [
       "Index(['Unnamed: 0', 'url', 'type', 'url_len', 'use_of_ip', 'domain',\n",
       "       'count_https', 'count_http', 'abnormal_url', '@', '?', '-', '=', '.',\n",
       "       '#', '%', '+', '$', '!', '*', ',', '//', 'sum_count_special_chars',\n",
       "       'pri_domain', 'redirection', 'hostname_length', 'tld', 'tld_length',\n",
       "       'short_url', 'count_digits', 'fd_len', 'is_sus_words'],\n",
       "      dtype='object')"
      ]
     },
     "execution_count": 82,
     "metadata": {},
     "output_type": "execute_result"
    }
   ],
   "source": [
    "df.columns"
   ]
  },
  {
   "cell_type": "code",
   "execution_count": 83,
   "id": "600e6315-d1c5-4114-a103-2210e0e5947d",
   "metadata": {},
   "outputs": [],
   "source": [
    "features = ['url_len', 'use_of_ip', 'count_https', 'count_http', 'abnormal_url', '@', '?', \n",
    "    '-', '=', '.','#', '%', '+', '$', 'sum_count_special_chars', 'fd_len', 'is_sus_words',\n",
    "    'redirection', 'short_url', 'count_digits' , 'hostname_length', 'tld_length'\n",
    "]"
   ]
  },
  {
   "cell_type": "code",
   "execution_count": 84,
   "id": "e710c75d-ea2b-4e81-8c6e-6060170a2a96",
   "metadata": {},
   "outputs": [
    {
     "name": "stdout",
     "output_type": "stream",
     "text": [
      "Selecting 22 features from the dataset.\n"
     ]
    }
   ],
   "source": [
    "print(f\"Selecting {len(features)} features from the dataset.\")"
   ]
  },
  {
   "cell_type": "markdown",
   "id": "3cacd990-1f15-45f2-9831-f19df1764522",
   "metadata": {},
   "source": [
    "#### Training data (safe URLs)"
   ]
  },
  {
   "cell_type": "code",
   "execution_count": 85,
   "id": "746fe759-8ad2-46ae-838a-f5b47c09464e",
   "metadata": {},
   "outputs": [],
   "source": [
    "X_train = benign_data[features]"
   ]
  },
  {
   "cell_type": "code",
   "execution_count": 86,
   "id": "0eda08ba-04a4-4cfa-b8a6-ca9d5f1a430c",
   "metadata": {},
   "outputs": [],
   "source": [
    "from sklearn.preprocessing import MinMaxScaler"
   ]
  },
  {
   "cell_type": "code",
   "execution_count": 87,
   "id": "e55cb1c6-ca7a-422c-9205-1dbaeb49b288",
   "metadata": {},
   "outputs": [],
   "source": [
    "scaler = MinMaxScaler()\n",
    "X_train_scaled = scaler.fit_transform(X_train)"
   ]
  },
  {
   "cell_type": "code",
   "execution_count": 88,
   "id": "05c444e7-23e9-402b-9c05-d1f7de6ec389",
   "metadata": {},
   "outputs": [],
   "source": [
    "#X_train_scaled[:2]"
   ]
  },
  {
   "cell_type": "markdown",
   "id": "d1c58c8a-0168-445e-836a-e9105ecc34f4",
   "metadata": {},
   "source": [
    "#### Testing data(malicious URLs)"
   ]
  },
  {
   "cell_type": "code",
   "execution_count": 73,
   "id": "423a4d23-8b89-4319-a14b-78895e8cac39",
   "metadata": {},
   "outputs": [],
   "source": [
    "# Combine benign and malicious data for testing\n",
    "#test_data = pd.concat([benign_data, malicious_data])\n",
    "#X_test = test_data[features]\n",
    "#X_test_scaled = scaler.transform(X_test)\n",
    "#y_test = test_data['type'].apply(lambda x: 1 if x != 'benign' else 0)"
   ]
  },
  {
   "cell_type": "code",
   "execution_count": 89,
   "id": "2e3955d8-e43b-449a-8be5-601e9f990cd4",
   "metadata": {},
   "outputs": [],
   "source": [
    "X_test = malicious_data[features]\n",
    "y_test = malicious_data['type'].apply(lambda x: 1 if x != 'benign' else 0)  # Binary labels for malicious URLs"
   ]
  },
  {
   "cell_type": "code",
   "execution_count": 91,
   "id": "1014d668-8b5e-4724-a55a-5008fe006d6b",
   "metadata": {},
   "outputs": [],
   "source": [
    "X_test_scaled = scaler.transform(X_test)"
   ]
  },
  {
   "cell_type": "code",
   "execution_count": 73,
   "id": "f712274e-2cc0-4af7-b123-55dec64834da",
   "metadata": {},
   "outputs": [],
   "source": [
    "#y_test_full = df['type'] "
   ]
  },
  {
   "cell_type": "code",
   "execution_count": 74,
   "id": "9fa2775a-e16f-41ba-82da-c1c84fc9333d",
   "metadata": {},
   "outputs": [],
   "source": [
    "#df_features = df.drop(columns=['type'])"
   ]
  },
  {
   "cell_type": "code",
   "execution_count": 75,
   "id": "510054a5-2b3d-4eda-a4b8-82ddde933c18",
   "metadata": {},
   "outputs": [],
   "source": [
    "#X_full = df_features[features]"
   ]
  },
  {
   "cell_type": "code",
   "execution_count": 34,
   "id": "a9e5bd00-24df-430e-99bd-7864f3beea99",
   "metadata": {},
   "outputs": [
    {
     "name": "stdout",
     "output_type": "stream",
     "text": [
      "Model: \"model_4\"\n",
      "_________________________________________________________________\n",
      " Layer (type)                Output Shape              Param #   \n",
      "=================================================================\n",
      " input_5 (InputLayer)        [(None, 22)]              0         \n",
      "                                                                 \n",
      " dense_16 (Dense)            (None, 16)                368       \n",
      "                                                                 \n",
      " dropout_4 (Dropout)         (None, 16)                0         \n",
      "                                                                 \n",
      " batch_normalization_4 (Batc  (None, 16)               64        \n",
      " hNormalization)                                                 \n",
      "                                                                 \n",
      " dense_17 (Dense)            (None, 8)                 136       \n",
      "                                                                 \n",
      " dense_18 (Dense)            (None, 16)                144       \n",
      "                                                                 \n",
      " dense_19 (Dense)            (None, 22)                374       \n",
      "                                                                 \n",
      "=================================================================\n",
      "Total params: 1,086\n",
      "Trainable params: 1,054\n",
      "Non-trainable params: 32\n",
      "_________________________________________________________________\n"
     ]
    }
   ],
   "source": [
    "input_dim = X_train_scaled.shape[1]\n",
    "\n",
    "#Input Layer\n",
    "input_layer = Input(shape=(input_dim,))\n",
    "\n",
    "#Encoder(Compression)\n",
    "encoder = Dense(16, activation='relu', kernel_regularizer=regularizers.l2(0.001))(input_layer)  # Compressing step\n",
    "encoder = Dropout(0.3)(encoder)\n",
    "encoder = BatchNormalization()(encoder)\n",
    "\n",
    "#Latent Space\n",
    "code = Dense(8, activation='relu')(encoder)  # Latent space (bottleneck)\n",
    "\n",
    "#Decoder (Reconstruction)\n",
    "decoder = Dense(16, activation='relu')(code)  # Expanding step\n",
    "output_layer = Dense(input_dim, activation='linear')(decoder)  # Output layer\n",
    "\n",
    "#Model\n",
    "autoencoder = Model(inputs=input_layer, outputs=output_layer)\n",
    "autoencoder.compile(optimizer=Adam(learning_rate=0.0005), loss='mse')\n",
    "autoencoder.summary()"
   ]
  },
  {
   "cell_type": "code",
   "execution_count": 35,
   "id": "cb71073a-e9df-4717-87a9-00d94d2ed42c",
   "metadata": {},
   "outputs": [],
   "source": [
    "#0.00005\n",
    "#from keras.callbacks import EarlyStopping\n",
    "#early_stopping = EarlyStopping(monitor='val_loss', patience=3, restore_best_weights=True)"
   ]
  },
  {
   "cell_type": "code",
   "execution_count": 36,
   "id": "25f07414-3840-4e15-aef1-891bccb6a643",
   "metadata": {},
   "outputs": [],
   "source": [
    "# Setup early stopping\n",
    "early_stop = EarlyStopping(monitor='val_loss', patience=5, restore_best_weights=True)"
   ]
  },
  {
   "cell_type": "code",
   "execution_count": 37,
   "id": "5d04c470-2368-490e-95ba-644fe4027d27",
   "metadata": {},
   "outputs": [
    {
     "name": "stdout",
     "output_type": "stream",
     "text": [
      "Epoch 1/10\n",
      "10703/10703 [==============================] - 30s 3ms/step - loss: 0.0034 - val_loss: 0.0023\n",
      "Epoch 2/10\n",
      "10703/10703 [==============================] - 29s 3ms/step - loss: 6.3674e-04 - val_loss: 0.0025\n",
      "Epoch 3/10\n",
      "10703/10703 [==============================] - 28s 3ms/step - loss: 5.8131e-04 - val_loss: 0.0022\n",
      "Epoch 4/10\n",
      "10703/10703 [==============================] - 28s 3ms/step - loss: 5.4576e-04 - val_loss: 0.0019\n",
      "Epoch 5/10\n",
      "10703/10703 [==============================] - 27s 3ms/step - loss: 5.2675e-04 - val_loss: 0.0012\n",
      "Epoch 6/10\n",
      "10703/10703 [==============================] - 28s 3ms/step - loss: 5.0403e-04 - val_loss: 0.0011\n",
      "Epoch 7/10\n",
      "10703/10703 [==============================] - 29s 3ms/step - loss: 4.8814e-04 - val_loss: 0.0011\n",
      "Epoch 8/10\n",
      "10703/10703 [==============================] - 29s 3ms/step - loss: 4.7680e-04 - val_loss: 0.0011\n",
      "Epoch 9/10\n",
      "10703/10703 [==============================] - 28s 3ms/step - loss: 4.8786e-04 - val_loss: 0.0011\n",
      "Epoch 10/10\n",
      "10703/10703 [==============================] - 30s 3ms/step - loss: 5.2078e-04 - val_loss: 0.0011\n"
     ]
    }
   ],
   "source": [
    "#Training the model\n",
    "history = autoencoder.fit(X_train_scaled, X_train_scaled, epochs=10, \n",
    "                          batch_size=32, \n",
    "                          validation_split=0.2,\n",
    "                          callbacks=[early_stop],\n",
    "                          shuffle=True)"
   ]
  },
  {
   "cell_type": "code",
   "execution_count": 38,
   "id": "e63f629c-0cd9-4589-9e92-f06028f0756c",
   "metadata": {},
   "outputs": [
    {
     "data": {
      "image/png": "[encoded data removed]",
      "text/plain": [
       "<Figure size 600x500 with 1 Axes>"
      ]
     },
     "metadata": {},
     "output_type": "display_data"
    }
   ],
   "source": [
    "plt.figure(figsize=(6,5))\n",
    "plt.plot(history.history['loss'], label=\"Training Loss\")\n",
    "plt.plot(history.history['val_loss'], label=\"Validation Loss\")\n",
    "plt.xlabel('Epochs')\n",
    "plt.ylabel('Loss')\n",
    "plt.legend()\n",
    "plt.title(\"Loss values by Epoch\")\n",
    "plt.show()"
   ]
  },
  {
   "cell_type": "markdown",
   "id": "9f2cbebb-2bde-49b6-8762-2954d07ca144",
   "metadata": {},
   "source": [
    "1. The training loss shows a consistent downward trend, indicating that the model is effectively learning from the training data without significant fluctuations.\n",
    "2. The validation loss decreases and then stabilizes, suggesting that the model is generalizing well to unseen data. The lack of a significant gap between training and validation loss is a good sign of the model's ability to perform consistently across different datasets."
   ]
  },
  {
   "cell_type": "code",
   "execution_count": 39,
   "id": "649aeef5-a7d8-4b0a-83cf-c98e82f9b402",
   "metadata": {},
   "outputs": [
    {
     "name": "stdout",
     "output_type": "stream",
     "text": [
      "13379/13379 [==============================] - 19s 1ms/step\n",
      "Average reconstruction error for safe URLs: 0.000565753009461783\n",
      "6972/6972 [==============================] - 10s 1ms/step\n",
      "Average reconstruction error for malicious URLs: 0.008290500181176455\n"
     ]
    }
   ],
   "source": [
    "# Computing reconstruction error for safe URLs\n",
    "safe_reconstruction = autoencoder.predict(X_train_scaled)\n",
    "mse_safe = np.mean(np.power(X_train_scaled - safe_reconstruction, 2), axis=1)\n",
    "print(f\"Average reconstruction error for safe URLs: {np.mean(mse_safe)}\")\n",
    "\n",
    "# Computing reconstruction error for malicious URLs\n",
    "malicious_reconstruction = autoencoder.predict(X_test_scaled)\n",
    "mse_malicious = np.mean(np.power(X_test_scaled - malicious_reconstruction, 2), axis=1)\n",
    "print(f\"Average reconstruction error for malicious URLs: {np.mean(mse_malicious)}\")"
   ]
  },
  {
   "cell_type": "markdown",
   "id": "8477c0b2-9d66-4600-8c22-c470a99f172c",
   "metadata": {},
   "source": [
    "> Low Error for Safe URLs: The very low average reconstruction error for safe URLs (0.000565753) suggests that the model is highly effective at accurately reconstructing these inputs. This implies that the features of safe URLs are well-learned and closely matched by the model."
   ]
  },
  {
   "cell_type": "markdown",
   "id": "2d1e9dfd-ee07-4eee-a04e-7ffe6e200b2e",
   "metadata": {},
   "source": [
    "> Higher Error for Malicious URLs: The average reconstruction error for malicious URLs is substantially higher (0.008290500) compared to that of safe URLs. This indicates that the model finds these inputs more difficult to reconstruct accurately, which could mean that their feature set is less well-represented in the training data, or they inherently have more variability."
   ]
  },
  {
   "cell_type": "markdown",
   "id": "61baf09f-e925-4385-980d-ca08a26bc160",
   "metadata": {},
   "source": [
    "#### Set the threshold for anomaly detection"
   ]
  },
  {
   "cell_type": "code",
   "execution_count": 92,
   "id": "b1552570-960e-4023-a1d5-aaaaa0666c00",
   "metadata": {},
   "outputs": [
    {
     "name": "stdout",
     "output_type": "stream",
     "text": [
      "Reconstruction error threshold: 0.0021803185153243896\n"
     ]
    }
   ],
   "source": [
    "threshold = np.percentile(mse_safe, 95)  #using 95th percentile of the safe reconstruction error\n",
    "print(f\"Reconstruction error threshold: {threshold}\")"
   ]
  },
  {
   "cell_type": "code",
   "execution_count": 93,
   "id": "53ab8e8e-2502-4fc3-8b59-9cdc7b61eb33",
   "metadata": {},
   "outputs": [],
   "source": [
    "# Flagging new URLs\n",
    "mse_test = np.mean(np.power(X_test_scaled - malicious_reconstruction, 2), axis=1)\n",
    "predictions = [1 if mse > threshold else 0 for mse in mse_test]  # 1 = malicious, 0 = safe"
   ]
  },
  {
   "cell_type": "code",
   "execution_count": 94,
   "id": "3a5007d4-0ffe-4046-857c-2acc4f0074ef",
   "metadata": {},
   "outputs": [
    {
     "data": {
      "text/html": [
       "<div>\n",
       "<style scoped>\n",
       "    .dataframe tbody tr th:only-of-type {\n",
       "        vertical-align: middle;\n",
       "    }\n",
       "\n",
       "    .dataframe tbody tr th {\n",
       "        vertical-align: top;\n",
       "    }\n",
       "\n",
       "    .dataframe thead th {\n",
       "        text-align: right;\n",
       "    }\n",
       "</style>\n",
       "<table border=\"1\" class=\"dataframe\">\n",
       "  <thead>\n",
       "    <tr style=\"text-align: right;\">\n",
       "      <th></th>\n",
       "      <th>error</th>\n",
       "      <th>y_true</th>\n",
       "    </tr>\n",
       "  </thead>\n",
       "  <tbody>\n",
       "    <tr>\n",
       "      <th>0</th>\n",
       "      <td>0.000043</td>\n",
       "      <td>1</td>\n",
       "    </tr>\n",
       "    <tr>\n",
       "      <th>1</th>\n",
       "      <td>0.008609</td>\n",
       "      <td>1</td>\n",
       "    </tr>\n",
       "    <tr>\n",
       "      <th>2</th>\n",
       "      <td>0.009053</td>\n",
       "      <td>1</td>\n",
       "    </tr>\n",
       "    <tr>\n",
       "      <th>3</th>\n",
       "      <td>0.007402</td>\n",
       "      <td>1</td>\n",
       "    </tr>\n",
       "    <tr>\n",
       "      <th>4</th>\n",
       "      <td>0.006919</td>\n",
       "      <td>1</td>\n",
       "    </tr>\n",
       "  </tbody>\n",
       "</table>\n",
       "</div>"
      ],
      "text/plain": [
       "      error  y_true\n",
       "0  0.000043       1\n",
       "1  0.008609       1\n",
       "2  0.009053       1\n",
       "3  0.007402       1\n",
       "4  0.006919       1"
      ]
     },
     "execution_count": 94,
     "metadata": {},
     "output_type": "execute_result"
    }
   ],
   "source": [
    "recons_df = pd.DataFrame({\n",
    "    'error': mse_malicious,\n",
    "    'y_true': y_test\n",
    "}).reset_index(drop=True)\n",
    "recons_df.head()"
   ]
  },
  {
   "cell_type": "code",
   "execution_count": 95,
   "id": "388f7412-e844-46c5-9392-30f552c71f04",
   "metadata": {},
   "outputs": [
    {
     "data": {
      "text/html": [
       "<div>\n",
       "<style scoped>\n",
       "    .dataframe tbody tr th:only-of-type {\n",
       "        vertical-align: middle;\n",
       "    }\n",
       "\n",
       "    .dataframe tbody tr th {\n",
       "        vertical-align: top;\n",
       "    }\n",
       "\n",
       "    .dataframe thead th {\n",
       "        text-align: right;\n",
       "    }\n",
       "</style>\n",
       "<table border=\"1\" class=\"dataframe\">\n",
       "  <thead>\n",
       "    <tr style=\"text-align: right;\">\n",
       "      <th></th>\n",
       "      <th>error</th>\n",
       "      <th>y_true</th>\n",
       "      <th>y_pred</th>\n",
       "    </tr>\n",
       "  </thead>\n",
       "  <tbody>\n",
       "    <tr>\n",
       "      <th>0</th>\n",
       "      <td>0.000043</td>\n",
       "      <td>1</td>\n",
       "      <td>False</td>\n",
       "    </tr>\n",
       "    <tr>\n",
       "      <th>1</th>\n",
       "      <td>0.008609</td>\n",
       "      <td>1</td>\n",
       "      <td>True</td>\n",
       "    </tr>\n",
       "    <tr>\n",
       "      <th>2</th>\n",
       "      <td>0.009053</td>\n",
       "      <td>1</td>\n",
       "      <td>True</td>\n",
       "    </tr>\n",
       "    <tr>\n",
       "      <th>3</th>\n",
       "      <td>0.007402</td>\n",
       "      <td>1</td>\n",
       "      <td>True</td>\n",
       "    </tr>\n",
       "    <tr>\n",
       "      <th>4</th>\n",
       "      <td>0.006919</td>\n",
       "      <td>1</td>\n",
       "      <td>True</td>\n",
       "    </tr>\n",
       "  </tbody>\n",
       "</table>\n",
       "</div>"
      ],
      "text/plain": [
       "      error  y_true  y_pred\n",
       "0  0.000043       1   False\n",
       "1  0.008609       1    True\n",
       "2  0.009053       1    True\n",
       "3  0.007402       1    True\n",
       "4  0.006919       1    True"
      ]
     },
     "execution_count": 95,
     "metadata": {},
     "output_type": "execute_result"
    }
   ],
   "source": [
    "recons_df['y_pred'] = recons_df['error'] > threshold\n",
    "recons_df.head()"
   ]
  },
  {
   "cell_type": "code",
   "execution_count": 96,
   "id": "f98f6200-c310-4c40-92c8-0b196b4e2ae9",
   "metadata": {},
   "outputs": [],
   "source": [
    "from sklearn.metrics import classification_report, confusion_matrix"
   ]
  },
  {
   "cell_type": "code",
   "execution_count": 101,
   "id": "945530be-b72c-4908-b2b1-51e8ca86a75a",
   "metadata": {},
   "outputs": [],
   "source": [
    "#print(classification_report(recons_df['y_true'],recons_df['y_pred'],zero_division=0))"
   ]
  },
  {
   "cell_type": "code",
   "execution_count": 102,
   "id": "4656bbf4-5452-40f0-8048-0e28195db107",
   "metadata": {},
   "outputs": [
    {
     "name": "stdout",
     "output_type": "stream",
     "text": [
      "              precision    recall  f1-score   support\n",
      "\n",
      "           0       0.00      0.00      0.00         0\n",
      "           1       1.00      0.55      0.71    223088\n",
      "\n",
      "    accuracy                           0.55    223088\n",
      "   macro avg       0.50      0.27      0.35    223088\n",
      "weighted avg       1.00      0.55      0.71    223088\n",
      "\n"
     ]
    }
   ],
   "source": [
    "print(classification_report(y_test, predictions, zero_division=0))"
   ]
  },
  {
   "cell_type": "code",
   "execution_count": 105,
   "id": "eec8217d-c24c-4968-a056-5fe7ca4f7f6c",
   "metadata": {},
   "outputs": [
    {
     "data": {
      "image/png": "[encoded data removed]",
      "text/plain": [
       "<Figure size 600x600 with 1 Axes>"
      ]
     },
     "metadata": {},
     "output_type": "display_data"
    }
   ],
   "source": [
    "cm = confusion_matrix(recons_df['y_true'],recons_df['y_pred'])\n",
    "plt.figure(figsize=(6,6))\n",
    "sns.heatmap(cm, annot=True, cmap='Blues', cbar=False, fmt='.6g')\n",
    "plt.xlabel('Actual')\n",
    "plt.ylabel('Predicted')\n",
    "plt.title('Confusion Matrix')\n",
    "plt.show()"
   ]
  },
  {
   "cell_type": "code",
   "execution_count": 106,
   "id": "443333eb-f742-4034-971c-9dbceee7b630",
   "metadata": {},
   "outputs": [],
   "source": [
    "# Save the entire autoencoder model to a file\n",
    "autoencoder.save('autoencoder_model.h5')"
   ]
  },
  {
   "cell_type": "code",
   "execution_count": null,
   "id": "0385bbba-d254-4812-9c7f-0e68c6820435",
   "metadata": {},
   "outputs": [],
   "source": []
  }
 ],
 "metadata": {
  "kernelspec": {
   "display_name": "Python 3 (ipykernel)",
   "language": "python",
   "name": "python3"
  },
  "language_info": {
   "codemirror_mode": {
    "name": "ipython",
    "version": 3
   },
   "file_extension": ".py",
   "mimetype": "text/x-python",
   "name": "python",
   "nbconvert_exporter": "python",
   "pygments_lexer": "ipython3",
   "version": "3.10.13"
  }
 },
 "nbformat": 4,
 "nbformat_minor": 5
}
